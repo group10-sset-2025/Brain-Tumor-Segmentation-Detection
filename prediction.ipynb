{
 "cells": [
  {
   "cell_type": "code",
   "execution_count": 8,
   "metadata": {},
   "outputs": [],
   "source": [
    "import numpy as np\n",
    "import nibabel as nib\n",
    "import glob\n",
    "#from tensorflow.keras.utils import to_categorical\n",
    "import matplotlib.pyplot as plt\n",
    "from tifffile import imsave\n",
    "from sklearn.preprocessing import MinMaxScaler\n"
   ]
  },
  {
   "cell_type": "code",
   "execution_count": 6,
   "metadata": {},
   "outputs": [
    {
     "name": "stdout",
     "output_type": "stream",
     "text": [
      "Looking in indexes: https://pypi.org/simple, https://pypi.ngc.nvidia.com\n",
      "Requirement already satisfied: keras in c:\\users\\clari\\documents\\brain\\venv\\lib\\site-packages (2.10.0)\n",
      "Note: you may need to restart the kernel to use updated packages.\n"
     ]
    },
    {
     "name": "stderr",
     "output_type": "stream",
     "text": [
      "WARNING: You are using pip version 21.2.3; however, version 24.3.1 is available.\n",
      "You should consider upgrading via the 'c:\\Users\\clari\\Documents\\brain\\venv\\Scripts\\python.exe -m pip install --upgrade pip' command.\n"
     ]
    }
   ],
   "source": [
    "%pip install keras"
   ]
  },
  {
   "cell_type": "code",
   "execution_count": 4,
   "metadata": {},
   "outputs": [
    {
     "name": "stdout",
     "output_type": "stream",
     "text": [
      "Looking in indexes: https://pypi.org/simple, https://pypi.ngc.nvidia.com\n",
      "Requirement already satisfied: tensorflow in c:\\users\\clari\\documents\\brain\\venv\\lib\\site-packages (2.10.1)\n",
      "Requirement already satisfied: astunparse>=1.6.0 in c:\\users\\clari\\documents\\brain\\venv\\lib\\site-packages (from tensorflow) (1.6.3)\n",
      "Requirement already satisfied: google-pasta>=0.1.1 in c:\\users\\clari\\documents\\brain\\venv\\lib\\site-packages (from tensorflow) (0.2.0)\n",
      "Requirement already satisfied: tensorflow-estimator<2.11,>=2.10.0 in c:\\users\\clari\\documents\\brain\\venv\\lib\\site-packages (from tensorflow) (2.10.0)\n",
      "Requirement already satisfied: keras<2.11,>=2.10.0 in c:\\users\\clari\\documents\\brain\\venv\\lib\\site-packages (from tensorflow) (2.10.0)\n",
      "Requirement already satisfied: flatbuffers>=2.0 in c:\\users\\clari\\documents\\brain\\venv\\lib\\site-packages (from tensorflow) (24.12.23)\n",
      "Requirement already satisfied: typing-extensions>=3.6.6 in c:\\users\\clari\\documents\\brain\\venv\\lib\\site-packages (from tensorflow) (4.12.2)\n",
      "Requirement already satisfied: numpy>=1.20 in c:\\users\\clari\\documents\\brain\\venv\\lib\\site-packages (from tensorflow) (2.0.2)\n",
      "Requirement already satisfied: tensorboard<2.11,>=2.10 in c:\\users\\clari\\documents\\brain\\venv\\lib\\site-packages (from tensorflow) (2.10.1)\n",
      "Requirement already satisfied: packaging in c:\\users\\clari\\documents\\brain\\venv\\lib\\site-packages (from tensorflow) (24.2)\n",
      "Requirement already satisfied: six>=1.12.0 in c:\\users\\clari\\documents\\brain\\venv\\lib\\site-packages (from tensorflow) (1.17.0)\n",
      "Requirement already satisfied: grpcio<2.0,>=1.24.3 in c:\\users\\clari\\documents\\brain\\venv\\lib\\site-packages (from tensorflow) (1.69.0)\n",
      "Requirement already satisfied: absl-py>=1.0.0 in c:\\users\\clari\\documents\\brain\\venv\\lib\\site-packages (from tensorflow) (2.1.0)\n",
      "Requirement already satisfied: keras-preprocessing>=1.1.1 in c:\\users\\clari\\documents\\brain\\venv\\lib\\site-packages (from tensorflow) (1.1.2)\n",
      "Requirement already satisfied: libclang>=13.0.0 in c:\\users\\clari\\documents\\brain\\venv\\lib\\site-packages (from tensorflow) (18.1.1)\n",
      "Requirement already satisfied: h5py>=2.9.0 in c:\\users\\clari\\documents\\brain\\venv\\lib\\site-packages (from tensorflow) (3.12.1)\n",
      "Requirement already satisfied: opt-einsum>=2.3.2 in c:\\users\\clari\\documents\\brain\\venv\\lib\\site-packages (from tensorflow) (3.4.0)\n",
      "Requirement already satisfied: protobuf<3.20,>=3.9.2 in c:\\users\\clari\\documents\\brain\\venv\\lib\\site-packages (from tensorflow) (3.19.6)\n",
      "Requirement already satisfied: termcolor>=1.1.0 in c:\\users\\clari\\documents\\brain\\venv\\lib\\site-packages (from tensorflow) (2.5.0)\n",
      "Requirement already satisfied: setuptools in c:\\users\\clari\\documents\\brain\\venv\\lib\\site-packages (from tensorflow) (57.4.0)\n",
      "Requirement already satisfied: tensorflow-io-gcs-filesystem>=0.23.1 in c:\\users\\clari\\documents\\brain\\venv\\lib\\site-packages (from tensorflow) (0.31.0)\n",
      "Requirement already satisfied: wrapt>=1.11.0 in c:\\users\\clari\\documents\\brain\\venv\\lib\\site-packages (from tensorflow) (1.17.0)\n",
      "Requirement already satisfied: gast<=0.4.0,>=0.2.1 in c:\\users\\clari\\documents\\brain\\venv\\lib\\site-packages (from tensorflow) (0.4.0)\n",
      "Requirement already satisfied: wheel<1.0,>=0.23.0 in c:\\users\\clari\\documents\\brain\\venv\\lib\\site-packages (from astunparse>=1.6.0->tensorflow) (0.45.1)\n",
      "Requirement already satisfied: markdown>=2.6.8 in c:\\users\\clari\\documents\\brain\\venv\\lib\\site-packages (from tensorboard<2.11,>=2.10->tensorflow) (3.7)\n",
      "Requirement already satisfied: werkzeug>=1.0.1 in c:\\users\\clari\\documents\\brain\\venv\\lib\\site-packages (from tensorboard<2.11,>=2.10->tensorflow) (3.1.3)\n",
      "Requirement already satisfied: tensorboard-plugin-wit>=1.6.0 in c:\\users\\clari\\documents\\brain\\venv\\lib\\site-packages (from tensorboard<2.11,>=2.10->tensorflow) (1.8.1)\n",
      "Requirement already satisfied: requests<3,>=2.21.0 in c:\\users\\clari\\documents\\brain\\venv\\lib\\site-packages (from tensorboard<2.11,>=2.10->tensorflow) (2.32.3)\n",
      "Requirement already satisfied: tensorboard-data-server<0.7.0,>=0.6.0 in c:\\users\\clari\\documents\\brain\\venv\\lib\\site-packages (from tensorboard<2.11,>=2.10->tensorflow) (0.6.1)\n",
      "Requirement already satisfied: google-auth-oauthlib<0.5,>=0.4.1 in c:\\users\\clari\\documents\\brain\\venv\\lib\\site-packages (from tensorboard<2.11,>=2.10->tensorflow) (0.4.6)\n",
      "Requirement already satisfied: google-auth<3,>=1.6.3 in c:\\users\\clari\\documents\\brain\\venv\\lib\\site-packages (from tensorboard<2.11,>=2.10->tensorflow) (2.37.0)\n",
      "Requirement already satisfied: pyasn1-modules>=0.2.1 in c:\\users\\clari\\documents\\brain\\venv\\lib\\site-packages (from google-auth<3,>=1.6.3->tensorboard<2.11,>=2.10->tensorflow) (0.4.1)\n",
      "Requirement already satisfied: rsa<5,>=3.1.4 in c:\\users\\clari\\documents\\brain\\venv\\lib\\site-packages (from google-auth<3,>=1.6.3->tensorboard<2.11,>=2.10->tensorflow) (4.9)\n",
      "Requirement already satisfied: cachetools<6.0,>=2.0.0 in c:\\users\\clari\\documents\\brain\\venv\\lib\\site-packages (from google-auth<3,>=1.6.3->tensorboard<2.11,>=2.10->tensorflow) (5.5.0)\n",
      "Requirement already satisfied: requests-oauthlib>=0.7.0 in c:\\users\\clari\\documents\\brain\\venv\\lib\\site-packages (from google-auth-oauthlib<0.5,>=0.4.1->tensorboard<2.11,>=2.10->tensorflow) (2.0.0)\n",
      "Requirement already satisfied: pyasn1<0.7.0,>=0.4.6 in c:\\users\\clari\\documents\\brain\\venv\\lib\\site-packages (from pyasn1-modules>=0.2.1->google-auth<3,>=1.6.3->tensorboard<2.11,>=2.10->tensorflow) (0.6.1)\n",
      "Requirement already satisfied: urllib3<3,>=1.21.1 in c:\\users\\clari\\documents\\brain\\venv\\lib\\site-packages (from requests<3,>=2.21.0->tensorboard<2.11,>=2.10->tensorflow) (2.3.0)\n",
      "Requirement already satisfied: idna<4,>=2.5 in c:\\users\\clari\\documents\\brain\\venv\\lib\\site-packages (from requests<3,>=2.21.0->tensorboard<2.11,>=2.10->tensorflow) (3.10)\n",
      "Requirement already satisfied: charset-normalizer<4,>=2 in c:\\users\\clari\\documents\\brain\\venv\\lib\\site-packages (from requests<3,>=2.21.0->tensorboard<2.11,>=2.10->tensorflow) (3.4.1)\n",
      "Requirement already satisfied: certifi>=2017.4.17 in c:\\users\\clari\\documents\\brain\\venv\\lib\\site-packages (from requests<3,>=2.21.0->tensorboard<2.11,>=2.10->tensorflow) (2024.12.14)\n",
      "Requirement already satisfied: oauthlib>=3.0.0 in c:\\users\\clari\\documents\\brain\\venv\\lib\\site-packages (from requests-oauthlib>=0.7.0->google-auth-oauthlib<0.5,>=0.4.1->tensorboard<2.11,>=2.10->tensorflow) (3.2.2)\n",
      "Requirement already satisfied: MarkupSafe>=2.1.1 in c:\\users\\clari\\documents\\brain\\venv\\lib\\site-packages (from werkzeug>=1.0.1->tensorboard<2.11,>=2.10->tensorflow) (3.0.2)\n",
      "Note: you may need to restart the kernel to use updated packages.\n"
     ]
    },
    {
     "name": "stderr",
     "output_type": "stream",
     "text": [
      "WARNING: You are using pip version 21.2.3; however, version 24.3.1 is available.\n",
      "You should consider upgrading via the 'c:\\Users\\clari\\Documents\\brain\\venv\\Scripts\\python.exe -m pip install --upgrade pip' command.\n"
     ]
    }
   ],
   "source": [
    "%pip install tensorflow"
   ]
  },
  {
   "cell_type": "code",
   "execution_count": 1,
   "metadata": {},
   "outputs": [
    {
     "ename": "ModuleNotFoundError",
     "evalue": "No module named 'torch'",
     "output_type": "error",
     "traceback": [
      "\u001b[1;31m---------------------------------------------------------------------------\u001b[0m",
      "\u001b[1;31mModuleNotFoundError\u001b[0m                       Traceback (most recent call last)",
      "Cell \u001b[1;32mIn[1], line 1\u001b[0m\n\u001b[1;32m----> 1\u001b[0m \u001b[38;5;28;01mimport\u001b[39;00m\u001b[38;5;250m \u001b[39m\u001b[38;5;21;01mtorch\u001b[39;00m\n\u001b[0;32m      2\u001b[0m \u001b[38;5;28mprint\u001b[39m(torch\u001b[38;5;241m.\u001b[39mcuda\u001b[38;5;241m.\u001b[39mis_available())  \u001b[38;5;66;03m# Should return True\u001b[39;00m\n\u001b[0;32m      3\u001b[0m \u001b[38;5;28mprint\u001b[39m(torch\u001b[38;5;241m.\u001b[39mcuda\u001b[38;5;241m.\u001b[39mget_device_name())  \u001b[38;5;66;03m# Should display your GPU name\u001b[39;00m\n",
      "\u001b[1;31mModuleNotFoundError\u001b[0m: No module named 'torch'"
     ]
    }
   ],
   "source": [
    "import torch\n",
    "print(torch.cuda.is_available())  # Should return True\n",
    "print(torch.cuda.get_device_name())  # Should display your GPU name\n"
   ]
  }
 ],
 "metadata": {
  "kernelspec": {
   "display_name": "venv",
   "language": "python",
   "name": "python3"
  },
  "language_info": {
   "codemirror_mode": {
    "name": "ipython",
    "version": 3
   },
   "file_extension": ".py",
   "mimetype": "text/x-python",
   "name": "python",
   "nbconvert_exporter": "python",
   "pygments_lexer": "ipython3",
   "version": "3.10.0"
  }
 },
 "nbformat": 4,
 "nbformat_minor": 2
}
